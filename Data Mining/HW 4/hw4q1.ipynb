{
 "cells": [
  {
   "cell_type": "markdown",
   "metadata": {},
   "source": [
    "# CISC 6930 Assignment 4 Question 1"
   ]
  },
  {
   "cell_type": "code",
   "execution_count": 1,
   "metadata": {
    "collapsed": true
   },
   "outputs": [],
   "source": [
    "# Import packages \n",
    "import numpy as np\n",
    "import pandas as pd\n",
    "from scipy.io import arff\n",
    "import time\n",
    "import matplotlib.pyplot as plt"
   ]
  },
  {
   "cell_type": "markdown",
   "metadata": {},
   "source": [
    "Implement the $k$-means clustering algorithm and investigate the effects of different starting configurations. Work with the $\\texttt{segment.arff}$ dataset. This dataset is based on a set of images taken in color around the UMASS campus to which low-level image processing operators were applied. The goal is to find clusters in the data which define different types of objects (buildings, trees, sky, etc). Don't be concerned with understanding the meaning of each cluster. \n",
    "\n",
    "Remember to $z$-score normalize the data as a preprocessing step before proceeding with the clustering. Again, $k$ is a tuning parameter and should be abstracted from the core clustering subroutine; vary $k$ and observe the effects. \n",
    "\n",
    "**Random Starting Positions** \n",
    "\n",
    "$k$-means is sensitive to the starting positions of the cluster centroids. To try to overcome this run $k$-means $25$ times with randomized starting positions for the cluster centroids. For an actual application, the centroids would be selected though a randomization process. For this exercise, $300$ instance numbers are provided to use (counting to start at the first instance in the dataset). To illustrate the approach, consider $5$-means. This needs $5$ centroid instances for each of $25$ trials, or a total of $125$ indices into the dataset. From the following list, select the first $5$ items for the first iteration, the next $5$ for the second iteration and so on."
   ]
  },
  {
   "cell_type": "markdown",
   "metadata": {},
   "source": [
    "The $300$ indices are as follows:"
   ]
  },
  {
   "cell_type": "code",
   "execution_count": 2,
   "metadata": {},
   "outputs": [
    {
     "data": {
      "text/plain": [
       "300"
      ]
     },
     "execution_count": 2,
     "metadata": {},
     "output_type": "execute_result"
    }
   ],
   "source": [
    "# List of indices for centroid instances \n",
    "indices = [775, 1020, 200, 127, 329, 1626, 1515, 651, 658, 328,\n",
    "           1160, 108, 422, 88, 105, 261, 212, 1941, 1724, 704,\n",
    "           1469, 635, 867, 1187, 445, 222, 1283, 1288, 1766, 1168,\n",
    "           566, 1812, 214, 53, 423, 50, 705, 1284, 1356, 996,\n",
    "           1084, 1956, 254, 711, 1997, 1378, 827, 1875, 424, 1790,\n",
    "           633, 208, 1670, 1517, 1902, 1476, 1716, 1709, 264, 1,\n",
    "           371, 758, 332, 542, 672, 483, 65, 92, 400, 1079,\n",
    "           1281, 145, 1410, 664, 155, 166, 1900, 1134, 1462, 954,\n",
    "           1818, 1679, 832, 1627, 1760, 1330, 913, 234, 1635, 1078,\n",
    "           640, 833, 392, 1425, 610, 1353, 1772, 908,1964, 1260,\n",
    "           784, 520, 1363, 544, 426, 1146, 987, 612, 1685, 1121,\n",
    "           1740, 287, 1383, 1923, 1665, 19, 1239, 251, 309, 245,\n",
    "           384, 1306, 786, 1814, 7, 1203, 1068, 1493, 859, 233,\n",
    "           1846, 1119, 469, 1869, 609, 385, 1182, 1949, 1622, 719,\n",
    "           643, 1692, 1389, 120, 1034, 805, 266, 339, 826, 530, \n",
    "           1173, 802, 1495, 504, 1241, 427, 1555, 1597, 692, 178,\n",
    "           774, 1623, 1641, 661, 1242, 1757, 553, 1377, 1419, 306,\n",
    "           1838, 211, 356, 541, 1455, 741, 583, 1464, 209, 1615,\n",
    "           475, 1903, 555, 1046, 379, 1938, 417, 1747, 342, 1148,\n",
    "           1697, 1785, 298, 1485, 945, 1097, 207, 857, 1758, 1390,\n",
    "           172, 587, 455, 1690, 1277, 345, 1166, 1367, 1858, 1427,\n",
    "           1434, 953, 1992, 1140, 137, 64, 1448, 991, 1312, 1628,\n",
    "           167, 1042, 1887, 1825, 249, 240, 524, 1098, 311, 337,\n",
    "           220, 1913, 727, 1659, 1321, 130, 1904, 561, 1270, 1250, \n",
    "           613, 152, 1440, 473, 1834, 1387, 1656, 1028, 1106, 829,\n",
    "           1591, 1699, 1674, 947, 77, 468, 997, 611, 1776, 123,\n",
    "           979, 1471, 1300, 1007, 1443, 164, 1881, 1935, 280, 442,\n",
    "           1588, 1033, 79, 1686, 854, 257, 1460, 1380, 495, 1701,\n",
    "           1611, 804, 1609, 975, 1181, 582, 816, 1770, 663, 737,\n",
    "           1810, 523, 1243, 944, 1959, 78, 675, 135, 1381, 1472]\n",
    "\n",
    "# Take length of above list to ensure there are enough indices\n",
    "# for k-means clustering \n",
    "len(indices)"
   ]
  },
  {
   "cell_type": "markdown",
   "metadata": {},
   "source": [
    "Running $k$-means entails iteratively moving the centroids to the best possible positions. For each value of $k$ and for the $25$ initial centroid sets, run $k$-means until either the clusters no longer change or the program has conducted $50$ iterations over the dataset, whichever comes first. "
   ]
  },
  {
   "cell_type": "code",
   "execution_count": 3,
   "metadata": {
    "collapsed": true
   },
   "outputs": [],
   "source": [
    "# Import data and store in data frame \n",
    "data, metadata = arff.loadarff(\"segment.arff\")\n",
    "n_data = pd.DataFrame(data)\n",
    "\n",
    "# Separate the class label from the features \n",
    "class_label = n_data.iloc[:, -1]\n",
    "n_data = n_data.iloc[:, :-1]\n",
    "\n",
    "# Normalize the features \n",
    "for i in range(n_data.shape[1]):\n",
    "    if n_data.iloc[:,i].std() != 0.0:\n",
    "        n_data.iloc[:, i] = (n_data.iloc[:, i] - n_data.iloc[:,i].mean()) \n",
    "        / (n_data.iloc[:,i].std())\n",
    "\n",
    "# Store the features in an easy to access array\n",
    "df = np.array(n_data)"
   ]
  },
  {
   "cell_type": "markdown",
   "metadata": {},
   "source": [
    "To evaluate the results, compute the sum of squared errors (SSE) for each of the $25$ clustering runs. SSE measures the deviation of points from their cluster centroid and gives a simple measure of the cluster compactness: \n",
    "$$ SSE = \\sum_{j=1}^k \\sum_{x_i \\in C_j} \\Vert x_i - m_j \\Vert^2 $$ \n",
    "where the clusters are $C_j$ ($j = 1,\\dots,k$), the final centroid for $C_j$ is $m_j$, the $x_i$'s are all the points assigned to $C_j$ and $||a-b||$ is the distance from point $a$ to point $b$. "
   ]
  },
  {
   "cell_type": "code",
   "execution_count": 4,
   "metadata": {
    "collapsed": true
   },
   "outputs": [],
   "source": [
    "# Return the euclidean distance between 2 points \n",
    "def euclidean_distance(X,Y):\n",
    "    return np.sqrt(np.sum((X - Y)**2))"
   ]
  },
  {
   "cell_type": "code",
   "execution_count": 5,
   "metadata": {
    "collapsed": true
   },
   "outputs": [],
   "source": [
    "# Return the length of intersecting elements from two lists \n",
    "def intersection_length(lst1, lst2): \n",
    "    return len(set(lst1).intersection(lst2))"
   ]
  },
  {
   "cell_type": "code",
   "execution_count": 6,
   "metadata": {
    "collapsed": true
   },
   "outputs": [],
   "source": [
    "# Classify each points in the dataframe into its cluster \n",
    "# based on the euclidean distance\n",
    "def findMembers(df, indices):\n",
    "    \n",
    "    # Store the number of data points in a variable\n",
    "    n = df.shape[0]\n",
    "    \n",
    "    # Create an array of size n by 1 to store each data point's \n",
    "    # cluster label\n",
    "    Xs = np.zeros((n, 1))\n",
    "    \n",
    "    # For each data point, find the euclidean distance between it\n",
    "    # and each indice and store the closest indice \n",
    "    for j in range(n):\n",
    "        dist = []\n",
    "        for s in indices:\n",
    "            dist.append([euclidean_distance(df[j], df[s]), s])\n",
    "        Xs[j][0] = sorted(dist)[0][1]\n",
    "    \n",
    "    # Return the array of classified points\n",
    "    return Xs"
   ]
  },
  {
   "cell_type": "code",
   "execution_count": 7,
   "metadata": {
    "collapsed": true
   },
   "outputs": [],
   "source": [
    "# Find the new mean point of each cluster \n",
    "def findNewMean(df, points):\n",
    "    \n",
    "    # Create an empty list to store distances \n",
    "    dist = []\n",
    "    \n",
    "    # To allow time complexity to be O(n) rather than O(n^2),\n",
    "    # note that (n-a) + (n-b) + ... = (n*x) - (a + b + ...)\n",
    "    # This simple manipulation is done below\n",
    "    df_scaled = df * len(points)\n",
    "    sum_points = sum(df[points])\n",
    "    \n",
    "    # Calculate the euclidean distance for all data points \n",
    "    for i in range(df_scaled.shape[0]):\n",
    "        dist.append([euclidean_distance(df_scaled[i], sum_points), i])\n",
    "        \n",
    "    # Return the new mean based on its shortest distance \n",
    "    return sorted(dist)[0][1]"
   ]
  },
  {
   "cell_type": "code",
   "execution_count": 8,
   "metadata": {
    "collapsed": true
   },
   "outputs": [],
   "source": [
    "# Calculate the SSE of a cluster based on euclidean distance \n",
    "def calculateSSE(df, points):\n",
    "    \n",
    "    # Create an empty list to store distances \n",
    "    dist = []\n",
    "    \n",
    "    # To allow time complexity to be O(n) rather than O(n^2),\n",
    "    # note that (n-a) + (n-b) + ... = (n*x) - (a + b + ...)\n",
    "    # This simple manipulation is done below\n",
    "    df_scaled = df * len(points)\n",
    "    sum_points = sum(df[points])\n",
    "    \n",
    "    # Calculate the euclidean distance for all data points\n",
    "    for i in range(df_scaled.shape[0]):\n",
    "        dist.append([euclidean_distance(df_scaled[i], sum_points), i])\n",
    "    \n",
    "    # Return the SSE, or euclidean distance of the\n",
    "    # cluster's points\n",
    "    return sorted(dist)[0][0]"
   ]
  },
  {
   "cell_type": "code",
   "execution_count": 9,
   "metadata": {},
   "outputs": [
    {
     "name": "stdout",
     "output_type": "stream",
     "text": [
      "1 -means clustering is finished.\n",
      "2 -means clustering is finished.\n",
      "3 -means clustering is finished.\n",
      "4 -means clustering is finished.\n",
      "5 -means clustering is finished.\n",
      "6 -means clustering is finished.\n",
      "7 -means clustering is finished.\n",
      "8 -means clustering is finished.\n",
      "9 -means clustering is finished.\n",
      "10 -means clustering is finished.\n",
      "11 -means clustering is finished.\n",
      "12 -means clustering is finished.\n",
      "Time elapsed: 414.3130829334259\n"
     ]
    }
   ],
   "source": [
    "start = time.time()\n",
    "# Create an array to store SSE values\n",
    "SSE = np.zeros((25, 12))\n",
    "\n",
    "# Allow only a maximum of 50 iterations\n",
    "# and runs through 25 initial cluster indices\n",
    "max_iter = 50\n",
    "cluster_run = 25\n",
    "\n",
    "# For each k from 1 to 12, perform k-means clustering\n",
    "for k in range(1,13): \n",
    "\n",
    "    # For each initial cluster index, perform k-means clustering\n",
    "    for i in range(cluster_run):\n",
    "        \n",
    "        # Get the initial indices \n",
    "        centroids = indices[i*k:(i+1)*k]\n",
    "        relevant_c = centroids\n",
    "        \n",
    "        # For each iteration, classify each data points\n",
    "        # to its closest cluster mean and find the mean\n",
    "        # of each cluster \n",
    "        for b in range(max_iter):\n",
    "            \n",
    "            # Reclassify data points to its closest cluster\n",
    "            memberList = findMembers(df, relevant_c)\n",
    "            \n",
    "            # Create a list to store new centroids\n",
    "            new_c = []\n",
    "            \n",
    "            # For each indice, find the new centroid\n",
    "            for m in relevant_c: \n",
    "                index = np.where(memberList == m)[0]\n",
    "                new_m = findNewMean(df, index)\n",
    "                new_c.append(new_m)\n",
    "            \n",
    "            # If the new centroids found have already appeared\n",
    "            # before, meaning convergence has met, then\n",
    "            # stop k-means clustering and calculate the SSE\n",
    "            # Else add the new centroids to its list of \n",
    "            # previous indices and let the new centroids \n",
    "            # be recalculated \n",
    "            if intersection_length(centroids, new_c) == k:\n",
    "                final_c = new_c\n",
    "                memberList = findMembers(df, final_c)\n",
    "                tempSSE = 0\n",
    "                for v in final_c:\n",
    "                    w = np.where(memberList == v)[0]\n",
    "                    tempSSE += calculateSSE(df, w)\n",
    "                SSE[i][k-1] = tempSSE\n",
    "                break\n",
    "            else:\n",
    "                centroids = centroids + new_c\n",
    "                relevant_c = new_c\n",
    "    print(k, \"-means clustering is finished.\")\n",
    "end = time.time()\n",
    "print(\"Time elapsed:\", end - start)"
   ]
  },
  {
   "cell_type": "markdown",
   "metadata": {},
   "source": [
    "(a) For each $k=1,2,\\dots,12$, compute the mean SSE, denoted $\\mu_k$ and the sample standard deviation $\\sigma_k$, over all $25$ clustering runs for that value of $k$. Generate a line plot of the mean SSE ($\\mu_k$) as a function of $k$. Include error bars that indicate the $95\\%$ confidence interval: ($\\mu_k - 2\\sigma_k$ to $\\mu_k + 2\\sigma_k$)"
   ]
  },
  {
   "cell_type": "code",
   "execution_count": 10,
   "metadata": {},
   "outputs": [],
   "source": [
    "# Calculate the mean SSE and sample standard deviation \n",
    "# over all 25 clustering runs for each k\n",
    "avgSSE = np.mean(SSE, axis = 0).round(4)\n",
    "stdSSE = np.std(SSE, axis = 0).round(4)\n",
    "\n",
    "# Calculate the error to be 2 times the sd \n",
    "error = 2 * stdSSE"
   ]
  },
  {
   "cell_type": "code",
   "execution_count": 11,
   "metadata": {},
   "outputs": [
    {
     "data": {
      "image/png": "[encoded data removed]",
      "text/plain": [
       "<matplotlib.figure.Figure at 0x11b462358>"
      ]
     },
     "metadata": {},
     "output_type": "display_data"
    }
   ],
   "source": [
    "# Create a plot of the mean SSEs with error bars showing\n",
    "# the 95% confidence interval \n",
    "plt.plot(range(1,13), avgSSE, color = 'r')\n",
    "plt.errorbar(x = range(1,13), y = avgSSE, yerr = error, \n",
    "             ecolor = 'r', capsize = 3,  markeredgewidth = 3)\n",
    "plt.title(\"Mean SSE with Error of k means clustering\")\n",
    "plt.xlabel(\"k\")\n",
    "plt.ylabel(\"mean SSE\")\n",
    "plt.show()"
   ]
  },
  {
   "cell_type": "markdown",
   "metadata": {},
   "source": [
    "(b) Produce a table containing the $4$ columns: $k$, $\\mu_k$, $\\mu_k - 2\\sigma_k$ and $\\mu_k + 2\\sigma_k$ for each of the values of $k=1,2,\\dots,12$. "
   ]
  },
  {
   "cell_type": "code",
   "execution_count": 12,
   "metadata": {},
   "outputs": [
    {
     "data": {
      "text/html": [
       "<div>\n",
       "<style>\n",
       "    .dataframe thead tr:only-child th {\n",
       "        text-align: right;\n",
       "    }\n",
       "\n",
       "    .dataframe thead th {\n",
       "        text-align: left;\n",
       "    }\n",
       "\n",
       "    .dataframe tbody tr th {\n",
       "        vertical-align: top;\n",
       "    }\n",
       "</style>\n",
       "<table border=\"1\" class=\"dataframe\">\n",
       "  <thead>\n",
       "    <tr style=\"text-align: right;\">\n",
       "      <th></th>\n",
       "      <th>k</th>\n",
       "      <th>$\\mu_k$</th>\n",
       "      <th>$\\mu_k-2\\sigma_k$</th>\n",
       "      <th>$\\mu_k+2\\sigma_k$</th>\n",
       "    </tr>\n",
       "  </thead>\n",
       "  <tbody>\n",
       "    <tr>\n",
       "      <th>0</th>\n",
       "      <td>1</td>\n",
       "      <td>37371.1346</td>\n",
       "      <td>37371.1346</td>\n",
       "      <td>37371.1346</td>\n",
       "    </tr>\n",
       "    <tr>\n",
       "      <th>1</th>\n",
       "      <td>2</td>\n",
       "      <td>45995.1453</td>\n",
       "      <td>25191.9437</td>\n",
       "      <td>66798.3469</td>\n",
       "    </tr>\n",
       "    <tr>\n",
       "      <th>2</th>\n",
       "      <td>3</td>\n",
       "      <td>40118.1075</td>\n",
       "      <td>31090.0833</td>\n",
       "      <td>49146.1317</td>\n",
       "    </tr>\n",
       "    <tr>\n",
       "      <th>3</th>\n",
       "      <td>4</td>\n",
       "      <td>38586.1462</td>\n",
       "      <td>25810.1842</td>\n",
       "      <td>51362.1082</td>\n",
       "    </tr>\n",
       "    <tr>\n",
       "      <th>4</th>\n",
       "      <td>5</td>\n",
       "      <td>37322.3845</td>\n",
       "      <td>29090.5615</td>\n",
       "      <td>45554.2075</td>\n",
       "    </tr>\n",
       "    <tr>\n",
       "      <th>5</th>\n",
       "      <td>6</td>\n",
       "      <td>38700.8073</td>\n",
       "      <td>31411.7667</td>\n",
       "      <td>45989.8479</td>\n",
       "    </tr>\n",
       "    <tr>\n",
       "      <th>6</th>\n",
       "      <td>7</td>\n",
       "      <td>36804.2022</td>\n",
       "      <td>29389.0682</td>\n",
       "      <td>44219.3362</td>\n",
       "    </tr>\n",
       "    <tr>\n",
       "      <th>7</th>\n",
       "      <td>8</td>\n",
       "      <td>36855.6613</td>\n",
       "      <td>25246.0181</td>\n",
       "      <td>48465.3045</td>\n",
       "    </tr>\n",
       "    <tr>\n",
       "      <th>8</th>\n",
       "      <td>9</td>\n",
       "      <td>34628.2882</td>\n",
       "      <td>27773.7948</td>\n",
       "      <td>41482.7816</td>\n",
       "    </tr>\n",
       "    <tr>\n",
       "      <th>9</th>\n",
       "      <td>10</td>\n",
       "      <td>33292.5657</td>\n",
       "      <td>27608.4379</td>\n",
       "      <td>38976.6935</td>\n",
       "    </tr>\n",
       "    <tr>\n",
       "      <th>10</th>\n",
       "      <td>11</td>\n",
       "      <td>32821.8159</td>\n",
       "      <td>26622.0909</td>\n",
       "      <td>39021.5409</td>\n",
       "    </tr>\n",
       "    <tr>\n",
       "      <th>11</th>\n",
       "      <td>12</td>\n",
       "      <td>32867.1319</td>\n",
       "      <td>28434.7341</td>\n",
       "      <td>37299.5297</td>\n",
       "    </tr>\n",
       "  </tbody>\n",
       "</table>\n",
       "</div>"
      ],
      "text/plain": [
       "     k     $\\mu_k$  $\\mu_k-2\\sigma_k$  $\\mu_k+2\\sigma_k$\n",
       "0    1  37371.1346         37371.1346         37371.1346\n",
       "1    2  45995.1453         25191.9437         66798.3469\n",
       "2    3  40118.1075         31090.0833         49146.1317\n",
       "3    4  38586.1462         25810.1842         51362.1082\n",
       "4    5  37322.3845         29090.5615         45554.2075\n",
       "5    6  38700.8073         31411.7667         45989.8479\n",
       "6    7  36804.2022         29389.0682         44219.3362\n",
       "7    8  36855.6613         25246.0181         48465.3045\n",
       "8    9  34628.2882         27773.7948         41482.7816\n",
       "9   10  33292.5657         27608.4379         38976.6935\n",
       "10  11  32821.8159         26622.0909         39021.5409\n",
       "11  12  32867.1319         28434.7341         37299.5297"
      ]
     },
     "execution_count": 12,
     "metadata": {},
     "output_type": "execute_result"
    }
   ],
   "source": [
    "# Produce all values for the table \n",
    "k_vals = pd.DataFrame(list(range(1,13)))\n",
    "avg = pd.DataFrame(avgSSE)\n",
    "left = pd.DataFrame(avgSSE - error)\n",
    "right = pd.DataFrame(avgSSE + error)\n",
    "table = pd.concat([k_vals, avg, left, right], axis = 1)\n",
    "table.columns = ['k', \"$\\mu_k$\", \"$\\mu_k-2\\sigma_k$\", \"$\\mu_k+2\\sigma_k$\"]\n",
    "table"
   ]
  },
  {
   "cell_type": "code",
   "execution_count": 13,
   "metadata": {},
   "outputs": [
    {
     "name": "stdout",
     "output_type": "stream",
     "text": [
      "Table of k, mu_k, mu_k - 2sigma_k, mu_k + 2sigma_k\n",
      "[1.0, 37371.134599999998, 37371.134599999998, 37371.134599999998]\n",
      "[2.0, 45995.145299999996, 25191.943699999996, 66798.346900000004]\n",
      "[3.0, 40118.107499999998, 31090.083299999998, 49146.131699999998]\n",
      "[4.0, 38586.146200000003, 25810.184200000003, 51362.108200000002]\n",
      "[5.0, 37322.3845, 29090.5615, 45554.207500000004]\n",
      "[6.0, 38700.8073, 31411.7667, 45989.847900000001]\n",
      "[7.0, 36804.2022, 29389.068200000002, 44219.336199999998]\n",
      "[8.0, 36855.6613, 25246.018100000001, 48465.304499999998]\n",
      "[9.0, 34628.288200000003, 27773.794800000003, 41482.781600000002]\n",
      "[10.0, 33292.565699999999, 27608.437899999997, 38976.693500000001]\n",
      "[11.0, 32821.815900000001, 26622.090900000003, 39021.5409]\n",
      "[12.0, 32867.1319, 28434.734100000001, 37299.529699999999]\n"
     ]
    }
   ],
   "source": [
    "# For viewing the table in terminal\n",
    "print(\"Table of k, mu_k, mu_k - 2sigma_k, mu_k + 2sigma_k\")\n",
    "for i in range(table.shape[0]):\n",
    "    print(list(table.loc[i]))"
   ]
  },
  {
   "cell_type": "markdown",
   "metadata": {},
   "source": [
    "(c) As $k$ increases and approaches the total number of examples $N$, what value does the SSE approach? What problems does this cause in terms of using SSE to choose an optimal $k$? "
   ]
  },
  {
   "cell_type": "markdown",
   "metadata": {
    "collapsed": true
   },
   "source": [
    "**Answer:** As $k$ increases and approaches the total number of examples $N$, the SSE approaches $0$. This causes a problem in choosing an optimal $k$ because it would mean that $k = N$ would be the optimal $k$ and its SSE would effectively be $0$. But by having $k=N$, it means there $N$ clusters, each having a single data point. This is a meaningless set of clusters."
   ]
  },
  {
   "cell_type": "markdown",
   "metadata": {},
   "source": [
    "(d) Suggest another measure of cluster compactness and separation that might be more useful than SSE? "
   ]
  },
  {
   "cell_type": "markdown",
   "metadata": {
    "collapsed": true
   },
   "source": [
    "**Answer:** Another measure of cluster compactness and separation that might be more useful than SSE is the Dunn Index. It is equal to the minimal inter-cluster distance divided by the maximal cluster size. A high Dunn Index is good; it means minimal inter-cluster distance is maximized and maximal cluster size is minimized. A large inter-cluster distance means that separation is maxed. A small cluster size means clusters are well compacted. "
   ]
  }
 ],
 "metadata": {
  "kernelspec": {
   "display_name": "Python 3",
   "language": "python",
   "name": "python3"
  },
  "language_info": {
   "codemirror_mode": {
    "name": "ipython",
    "version": 3
   },
   "file_extension": ".py",
   "mimetype": "text/x-python",
   "name": "python",
   "nbconvert_exporter": "python",
   "pygments_lexer": "ipython3",
   "version": "3.6.1"
  }
 },
 "nbformat": 4,
 "nbformat_minor": 2
}
